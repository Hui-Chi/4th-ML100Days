{
 "cells": [
  {
   "cell_type": "markdown",
   "metadata": {},
   "source": [
    "# [作業1]\n",
    "\n",
    "完成 Mean Squared Error 的函式\n",
    "\n",
    "$ MSE = \\frac{1}{n}\\sum_{i=1}^{n}{(Y_i - \\hat{Y}_i)^2} $"
   ]
  },
  {
   "cell_type": "code",
   "execution_count": 2,
   "metadata": {},
   "outputs": [],
   "source": [
    "import numpy as np\n",
    "import matplotlib.pyplot as plt"
   ]
  },
  {
   "cell_type": "code",
   "execution_count": 3,
   "metadata": {},
   "outputs": [],
   "source": [
    "# define the mae and mse functions\n",
    "\n",
    "def mean_absolute_error(y, yp):\n",
    "    \"\"\"\n",
    "    計算 MAE\n",
    "    Args:\n",
    "        -y  : 實際值\n",
    "        -yp : 預測值\n",
    "    Return:\n",
    "        -mae: MAE\n",
    "    \"\"\"\n",
    "    \n",
    "    mae = MAE = sum( abs(y-yp) )/len(y)\n",
    "    return mae\n",
    "\n",
    "\n",
    "def mean_squared_error(y, yp):\n",
    "    \"\"\"\n",
    "    計算 MSE\n",
    "    Args:\n",
    "        -y  : 實際值\n",
    "        -yp : 預測值\n",
    "    Retrun:\n",
    "        -mse: MSE\n",
    "    \"\"\"\n",
    "    \n",
    "    mse = MSE = sum( (y-yp)**2 )/len(y)\n",
    "    return mse"
   ]
  },
  {
   "cell_type": "code",
   "execution_count": 4,
   "metadata": {},
   "outputs": [
    {
     "data": {
      "image/png": "[encoded data removed]",
      "text/plain": [
       "<Figure size 432x288 with 1 Axes>"
      ]
     },
     "metadata": {
      "needs_background": "light"
     },
     "output_type": "display_data"
    }
   ],
   "source": [
    "# create and plot the data points\n",
    "\n",
    "w = 3\n",
    "b = 0.5\n",
    "x_lin = np.linspace(0, 100, 101)\n",
    "y = (x_lin + np.random.randn(101) * 5) * w + b\n",
    "\n",
    "plt.plot(x_lin, y, 'b.', label='data points')\n",
    "plt.title = (\"Assume we have data points\")\n",
    "plt.legend(loc = 2)\n",
    "plt.show()"
   ]
  },
  {
   "cell_type": "code",
   "execution_count": 16,
   "metadata": {},
   "outputs": [
    {
     "ename": "TypeError",
     "evalue": "'str' object is not callable",
     "output_type": "error",
     "traceback": [
      "\u001b[1;31m---------------------------------------------------------------------------\u001b[0m",
      "\u001b[1;31mTypeError\u001b[0m                                 Traceback (most recent call last)",
      "\u001b[1;32m<ipython-input-16-19528643f112>\u001b[0m in \u001b[0;36m<module>\u001b[1;34m\u001b[0m\n\u001b[0;32m      4\u001b[0m \u001b[0mplt\u001b[0m\u001b[1;33m.\u001b[0m\u001b[0mplot\u001b[0m\u001b[1;33m(\u001b[0m\u001b[0mx_lin\u001b[0m\u001b[1;33m,\u001b[0m \u001b[0my\u001b[0m\u001b[1;33m,\u001b[0m \u001b[1;34m'b.'\u001b[0m\u001b[1;33m,\u001b[0m \u001b[0mlabel\u001b[0m\u001b[1;33m=\u001b[0m\u001b[1;34m'data'\u001b[0m\u001b[1;33m)\u001b[0m\u001b[1;33m\u001b[0m\u001b[1;33m\u001b[0m\u001b[0m\n\u001b[0;32m      5\u001b[0m \u001b[0mplt\u001b[0m\u001b[1;33m.\u001b[0m\u001b[0mplot\u001b[0m\u001b[1;33m(\u001b[0m\u001b[0mx_lin\u001b[0m\u001b[1;33m,\u001b[0m \u001b[0my_hat\u001b[0m\u001b[1;33m,\u001b[0m \u001b[1;34m'r-'\u001b[0m\u001b[1;33m,\u001b[0m \u001b[0mlabel\u001b[0m\u001b[1;33m=\u001b[0m\u001b[1;34m'prediction'\u001b[0m\u001b[1;33m)\u001b[0m\u001b[1;33m\u001b[0m\u001b[1;33m\u001b[0m\u001b[0m\n\u001b[1;32m----> 6\u001b[1;33m \u001b[0mplt\u001b[0m\u001b[1;33m.\u001b[0m\u001b[0mtitle\u001b[0m\u001b[1;33m(\u001b[0m\u001b[1;34m\"Assume we have data points (And the prediction)\"\u001b[0m\u001b[1;33m)\u001b[0m\u001b[1;33m\u001b[0m\u001b[1;33m\u001b[0m\u001b[0m\n\u001b[0m\u001b[0;32m      7\u001b[0m \u001b[0mplt\u001b[0m\u001b[1;33m.\u001b[0m\u001b[0mlegend\u001b[0m\u001b[1;33m(\u001b[0m\u001b[0mloc\u001b[0m \u001b[1;33m=\u001b[0m \u001b[1;36m2\u001b[0m\u001b[1;33m)\u001b[0m\u001b[1;33m\u001b[0m\u001b[1;33m\u001b[0m\u001b[0m\n\u001b[0;32m      8\u001b[0m \u001b[0mplt\u001b[0m\u001b[1;33m.\u001b[0m\u001b[0mshow\u001b[0m\u001b[1;33m(\u001b[0m\u001b[1;33m)\u001b[0m\u001b[1;33m\u001b[0m\u001b[1;33m\u001b[0m\u001b[0m\n",
      "\u001b[1;31mTypeError\u001b[0m: 'str' object is not callable"
     ]
    },
    {
     "data": {
      "image/png": "[encoded data removed]",
      "text/plain": [
       "<Figure size 432x288 with 1 Axes>"
      ]
     },
     "metadata": {
      "needs_background": "light"
     },
     "output_type": "display_data"
    }
   ],
   "source": [
    "# plot the data points and the prediction\n",
    "\n",
    "y_hat = x_lin * w + b\n",
    "plt.plot(x_lin, y, 'b.', label='data')\n",
    "plt.plot(x_lin, y_hat, 'r-', label='prediction')\n",
    "plt.title(\"Assume we have data points (And the prediction)\")\n",
    "plt.legend(loc = 2)\n",
    "plt.show()"
   ]
  },
  {
   "cell_type": "code",
   "execution_count": 17,
   "metadata": {},
   "outputs": [
    {
     "name": "stdout",
     "output_type": "stream",
     "text": [
      "The Mean squared error is 205.093\n",
      "The Mean absolute error is 11.577\n"
     ]
    }
   ],
   "source": [
    "# run the function\n",
    "\n",
    "MSE = mean_squared_error(y, y_hat)\n",
    "MAE = mean_absolute_error(y, y_hat)\n",
    "\n",
    "print(\"The Mean squared error is %.3f\" % (MSE))\n",
    "print(\"The Mean absolute error is %.3f\" % (MAE))"
   ]
  },
  {
   "cell_type": "markdown",
   "metadata": {},
   "source": [
    "# [作業2]\n",
    "\n",
    "請上 Kaggle, 在 Competitions 或 Dataset 中找一組競賽或資料並寫下：\n",
    "\n",
    "1. 你選的這組資料為何重要\n",
    "\n",
    "2. 資料從何而來 (tips: 譬如提供者是誰、以什麼方式蒐集)\n",
    "\n",
    "3. 蒐集而來的資料型態為何\n",
    "\n",
    "4. 這組資料想解決的問題如何評估"
   ]
  },
  {
   "cell_type": "markdown",
   "metadata": {},
   "source": [
    "## Ans:\n",
    "\n",
    "Dataset: Novel Corona Virus 2019 Dataset\n",
    "\n",
    "1.\n",
    "新冠肺炎已在全球造成嚴重的疫情，為了調查病毒的性質(產生症狀、傳播方式等)以及抑制病毒的傳播速度，個案的所在地、旅遊史、確診時間、症狀...等都是需要考慮的資料。此份資料除了提供個案的個別資訊外，並進一步統計了每日感染人數、累積死亡/康復人數、不同地區的案例比例等圖表，因此我們可以藉由觀察此圖表、或者作進一步的分析來評估疫情趨勢及決策(警戒等級的評估、資源的投入)。\n",
    "\n",
    "2.\n",
    "資料收集者: Johns Hopkins CSSE\n",
    "資料來源: WHO, CDC, ECDC, NHC, DXY\n",
    "\n",
    "3.\n",
    "csv檔\n",
    "\n",
    "4.\n",
    "這組資料想解決的其中一個問題為: 如何利用此資料預測病毒傳播並緩和疫情\n",
    "\n",
    "-- 這些資料包含許多的參數，但同時對多個參數作分析較困難，因此我覺得必須先找出影響較大的幾個參數並比對其之間的關係。比如說從「地區每日的個案累積數量」可以看出此地區的疫情成長程度，若再對照「地區的死亡/康復累積人數」則可再進一步評估此地區對於病毒的應變能力，因此國際組織可由此評斷此地區的防疫等級並給予適當協助。雖然這些資料並無法包含所有我們所需的完整資訊，然而它也可以提供我們「還需要哪些資訊」的想法。例如已知「出現症狀/確診時間統計」，我們會想了解病毒的傳播速度/程度，這時候就會想到需要「與個案接觸的人」的資訊。\n"
   ]
  },
  {
   "cell_type": "markdown",
   "metadata": {},
   "source": [
    "# [作業3]\n",
    "\n",
    "想像你經營一個自由載客車隊，你希望能透過數據分析以提升業績，請你思考並描述你如何規劃整體的分析/解決方案：\n",
    "\n",
    "1. 核心問題為何 (tips：如何定義 「提升業績 & 你的假設」)\n",
    "\n",
    "2. 資料從何而來 (tips：哪些資料可能會對你想問的問題產生影響 & 資料如何蒐集)\n",
    "\n",
    "3. 蒐集而來的資料型態為何\n",
    "\n",
    "4. 你要回答的問題，其如何評估 (tips：你的假設如何驗證)"
   ]
  },
  {
   "cell_type": "markdown",
   "metadata": {},
   "source": [
    "## Ans:\n",
    "\n",
    "1.\n",
    "\n",
    "提升業績定義: 一週內的載客總里程數總合上升\n",
    "\n",
    "-> 核心問題: 每輛車等候的地點如何調配? (要設定幾個點、每個點要幾輛車、一種配置要維持的時距)\n",
    "\n",
    "2.\n",
    "\n",
    "影響因素: \n",
    "\n",
    "(1) 民眾有搭車需求的地點、時段\n",
    "\n",
    "(2) 搭車地點到目的地的大約距離\n",
    "\n",
    "(3) 同個地點其他車隊的車子數量\n",
    "\n",
    "資料收集方式: \n",
    "\n",
    "(1) 過去經營經驗所收集的資料\n",
    "\n",
    "(2) 台鐵等大眾運輸的統計資料\n",
    "\n",
    "(3) 設計表單並於公司官網/app或花廣告費於社群網站宣傳、請司機向乘客宣傳\n",
    "\n",
    "(4) 列出等候地點的選項後，針對這些地點調查附近有哪些餐廳、機構...等許多民眾會去的地方，並透過google統計資料得知這些地點的熱門時段\n",
    "\n",
    "3.\n",
    "\n",
    "表格:\n",
    "\n",
    "先用一張表格記錄每個等候地點每個時段的需求人數(由表單及過去經驗提供)、車站的出站流量(由大眾運輸統計資料提供)、其他公司車輛數目(由經驗提供)、到目的地的平均距離(由表單結果及鄰近餐廳、機構的距離人潮決定)。\n",
    "\n",
    "再開另一份表格，記錄這些位於等候地點附近餐廳、機構的熱門時段與人潮數，並且記錄其與等候地點間的距離。並注意這些地點是否同時與多個等候地點鄰近(e.g.餐廳A同時與車站B、C接近，則需考慮兩車站的客源重疊問題)\n",
    "\n",
    "4.\n",
    "\n",
    "根據表格我們可以先估計出每個等候地點不同時段的客源量，並由 等候地點到目的地的平均距離/平均車速 算出 單趟載客所需的時間，並算出一個時段的最大載客次數。再來設等候地點 $ x_i $ 分配的車輛數為 $ n_i $，且我們會希望$ n_i $大約落在:\n",
    "\n",
    "某時段總客源數 = 最大載客次數*($ n_i $ + 他牌車輛)     的限制左右 (constraint 1)。\n",
    "\n",
    "接著我們可以粗估在一個時段內的總里程數為\n",
    "\n",
    "總里程數 = $ \\sum_{x_i} 單趟里程數*載客次數*n_i $    (先不考慮從目的地返回等候地點時是否再接到客人的機率，單純以單趟里程計算)\n",
    "\n",
    "再來則找出最大化總里程數及考慮constraint 1的情況下，($ x_i, n_i $)要取的值\n",
    "\n",
    "至於如何劃分維持一種配置的時段要多長，則把公式改成每週的總里程數。令每個時段的時距為$ t_j $，地點$ x_i $分配到的車輛數為$ n_{ij} $，則\n",
    "\n",
    "總里程數 = $ \\sum_{x_i, t_j} 某時段某地點的單趟里程數*最大載客次數*n_{ij} $ \n",
    "\n",
    "接著可藉由最大化總里程數得到適當的($x_i, t_j, n_{ij}$)"
   ]
  }
 ],
 "metadata": {
  "kernelspec": {
   "display_name": "Python 3",
   "language": "python",
   "name": "python3"
  },
  "language_info": {
   "codemirror_mode": {
    "name": "ipython",
    "version": 3
   },
   "file_extension": ".py",
   "mimetype": "text/x-python",
   "name": "python",
   "nbconvert_exporter": "python",
   "pygments_lexer": "ipython3",
   "version": "3.7.1"
  }
 },
 "nbformat": 4,
 "nbformat_minor": 2
}
