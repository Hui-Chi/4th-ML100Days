{
 "cells": [
  {
   "cell_type": "markdown",
   "metadata": {},
   "source": [
    "# [作業]\n",
    "\n",
    "請找出一個你認為機器學習可以發光發熱的領域並闡述原因?"
   ]
  },
  {
   "cell_type": "markdown",
   "metadata": {},
   "source": [
    "## Ans\n",
    "\n",
    "領域：動畫製作\n",
    "\n",
    "說明 ：\n",
    "\n",
    "一般我們所看的日本動畫在人物動作改變之間，都需要由動畫師補齊原畫與原畫之間的圖畫，以使人物的動作表情流暢。這樣一集20分鐘的動畫下來就需要大量的這種中間圖畫，更何況要完成整部動畫。因此我在想是否能夠利用機器學習的技術，將目前已有的原畫與中間畫當成學習的樣本，再引入一些物理定律跟人體四肢五官活動的知識，使得機器能夠在收到相鄰兩張原畫的情況下，就能判斷中間的動作、表情該如何連貫，藉此減輕畫師們的工作量。"
   ]
  }
 ],
 "metadata": {
  "kernelspec": {
   "display_name": "Python 3",
   "language": "python",
   "name": "python3"
  },
  "language_info": {
   "codemirror_mode": {
    "name": "ipython",
    "version": 3
   },
   "file_extension": ".py",
   "mimetype": "text/x-python",
   "name": "python",
   "nbconvert_exporter": "python",
   "pygments_lexer": "ipython3",
   "version": "3.7.4"
  }
 },
 "nbformat": 4,
 "nbformat_minor": 2
}
