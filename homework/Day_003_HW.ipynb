{
 "cells": [
  {
   "cell_type": "markdown",
   "metadata": {},
   "source": [
    "## [作業目標]\n",
    "持續接觸有關機器學習的相關專案與最新技術"
   ]
  },
  {
   "cell_type": "markdown",
   "metadata": {},
   "source": [
    "## [作業重點]\n",
    "透過觀察頂尖公司的機器學習文章，來了解各公司是怎麼應用機器學習在實際的專案上"
   ]
  },
  {
   "cell_type": "markdown",
   "metadata": {},
   "source": [
    "## [作業]\n",
    "今天的作業希望大家能夠看看全球機器學習巨頭們在做的機器學習專案。以 google 為例，下圖是 Google 內部專案使用機器學習的數量，隨著時間進展，現在早已超過 2000 個專案在使用機器學習。"
   ]
  },
  {
   "cell_type": "markdown",
   "metadata": {},
   "source": [
    "![image](https://cdn-images-1.medium.com/max/800/1*U_L8qI8RmYS-MOBrYvXhSA.png)"
   ]
  },
  {
   "cell_type": "markdown",
   "metadata": {},
   "source": [
    "底下幫同學整理幾間知名企業的 blog 或機器學習網站 (自行搜尋也可)，這些網站都會整理最新的機器學習專案或者是技術文章，請挑選一篇文章閱讀並試著回答\n",
    "1. 專案的目標？ (要解決什麼問題）\n",
    "2. 使用的技術是？ (只需知道名稱即可，例如：使用 CNN 卷積神經網路做影像分類)\n",
    "3. 資料來源？ "
   ]
  },
  {
   "cell_type": "markdown",
   "metadata": {},
   "source": [
    "- [Google AI blog](https://ai.googleblog.com/)\n",
    "- [Facebook Research blog](https://research.fb.com/blog/)\n",
    "- [Apple machine learning journal](https://machinelearning.apple.com/)\n",
    "- [機器之心](https://www.jiqizhixin.com/)\n",
    "- [雷鋒網](http://www.leiphone.com/category/ai)"
   ]
  },
  {
   "cell_type": "markdown",
   "metadata": {},
   "source": [
    "選擇文章：Google AI blog - Announcing Meta-Dataset: A Dataset of Datasets for Few-Shot Learning\n",
    "\n",
    "1. 專案的目標\n",
    "此篇文章討論「解決Few-Shot問題的不同模型之效果評量」。文章提到，雖然目前深度學習在許多問題上都有不錯的成果，然而其結果常需要仰賴大量的資料。這類型的其中一個問題是「圖形辨識」：如何從少量的training data中學習後，再遇到新類型的圖片時，可以只從少量該類型的代表性圖片中學習這個類型的特性。對於這個問題目前已有一些模型被提出，而此篇文章則講述如何評量這些模型的效果，並從評量之中發現更多解決圖形辨識問題的想法。\n",
    "\n",
    "2. 使用的技術\n",
    "Meta-dataset：由各種不同dataset所組成的dataset。其組成元素包含自然圖像、手寫符號、塗鴉等不同類型的dataset，因此Meta-dataset的資料類型豐富度高。在測試不同模型時，它可以調整每個測試所包含的圖片類型數、每個類型的圖片數量、類型之間的相似度等參數。\n",
    "\n",
    "3. 資料來源\n",
    "(1) 原始論文：Meta-Dataset: A Dataset of Datasets for Learning to Learn from Few Examples\n",
    "(2) meta-dataset中用到的datasets：ImageNet, CUB-200-2011, Fungi, ...etc."
   ]
  }
 ],
 "metadata": {
  "kernelspec": {
   "display_name": "Python 3",
   "language": "python",
   "name": "python3"
  },
  "language_info": {
   "codemirror_mode": {
    "name": "ipython",
    "version": 3
   },
   "file_extension": ".py",
   "mimetype": "text/x-python",
   "name": "python",
   "nbconvert_exporter": "python",
   "pygments_lexer": "ipython3",
   "version": "3.7.4"
  }
 },
 "nbformat": 4,
 "nbformat_minor": 2
}
